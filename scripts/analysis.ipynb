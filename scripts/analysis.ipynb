{
 "cells": [
  {
   "cell_type": "code",
   "execution_count": 1,
   "metadata": {},
   "outputs": [],
   "source": [
    "import numpy as np\n",
    "import pandas as pd\n",
    "\n",
    "# Import date class from datetime module\n",
    "from datetime import date, datetime\n",
    "\n",
    "# Returns the current local date\n",
    "today = date.today()"
   ]
  },
  {
   "cell_type": "code",
   "execution_count": 30,
   "metadata": {},
   "outputs": [],
   "source": [
    "# read data\n",
    "\n",
    "def read_invoices(data):\n",
    "    invoices_data=pd.read_csv(data)\n",
    "    return(invoices_data)\n",
    "\n"
   ]
  },
  {
   "cell_type": "code",
   "execution_count": 39,
   "metadata": {},
   "outputs": [
    {
     "data": {
      "text/html": [
       "<div>\n",
       "<style scoped>\n",
       "    .dataframe tbody tr th:only-of-type {\n",
       "        vertical-align: middle;\n",
       "    }\n",
       "\n",
       "    .dataframe tbody tr th {\n",
       "        vertical-align: top;\n",
       "    }\n",
       "\n",
       "    .dataframe thead th {\n",
       "        text-align: right;\n",
       "    }\n",
       "</style>\n",
       "<table border=\"1\" class=\"dataframe\">\n",
       "  <thead>\n",
       "    <tr style=\"text-align: right;\">\n",
       "      <th></th>\n",
       "      <th>id</th>\n",
       "      <th>organisation_id</th>\n",
       "      <th>raised_date</th>\n",
       "      <th>due_date</th>\n",
       "      <th>paid_date</th>\n",
       "      <th>status</th>\n",
       "      <th>amount</th>\n",
       "    </tr>\n",
       "  </thead>\n",
       "  <tbody>\n",
       "    <tr>\n",
       "      <th>0</th>\n",
       "      <td>1</td>\n",
       "      <td>1000</td>\n",
       "      <td>2019-10-10</td>\n",
       "      <td>2019-10-20</td>\n",
       "      <td>2019-10-15</td>\n",
       "      <td>PAID</td>\n",
       "      <td>1000</td>\n",
       "    </tr>\n",
       "    <tr>\n",
       "      <th>1</th>\n",
       "      <td>2</td>\n",
       "      <td>1000</td>\n",
       "      <td>2019-10-10</td>\n",
       "      <td>2019-10-20</td>\n",
       "      <td>2019-11-10</td>\n",
       "      <td>PAID</td>\n",
       "      <td>2000</td>\n",
       "    </tr>\n",
       "    <tr>\n",
       "      <th>2</th>\n",
       "      <td>3</td>\n",
       "      <td>1000</td>\n",
       "      <td>2019-10-10</td>\n",
       "      <td>2019-10-30</td>\n",
       "      <td>NaN</td>\n",
       "      <td>UNPAID</td>\n",
       "      <td>1500</td>\n",
       "    </tr>\n",
       "    <tr>\n",
       "      <th>3</th>\n",
       "      <td>4</td>\n",
       "      <td>1000</td>\n",
       "      <td>2019-10-10</td>\n",
       "      <td>2019-11-20</td>\n",
       "      <td>NaN</td>\n",
       "      <td>UNPAID</td>\n",
       "      <td>2000</td>\n",
       "    </tr>\n",
       "    <tr>\n",
       "      <th>4</th>\n",
       "      <td>5</td>\n",
       "      <td>1000</td>\n",
       "      <td>2019-10-10</td>\n",
       "      <td>2019-11-01</td>\n",
       "      <td>2019-11-05</td>\n",
       "      <td>PAID</td>\n",
       "      <td>3000</td>\n",
       "    </tr>\n",
       "    <tr>\n",
       "      <th>5</th>\n",
       "      <td>6</td>\n",
       "      <td>2000</td>\n",
       "      <td>2019-09-10</td>\n",
       "      <td>2019-10-10</td>\n",
       "      <td>2019-10-10</td>\n",
       "      <td>PAID</td>\n",
       "      <td>1000</td>\n",
       "    </tr>\n",
       "    <tr>\n",
       "      <th>6</th>\n",
       "      <td>7</td>\n",
       "      <td>2000</td>\n",
       "      <td>2019-09-10</td>\n",
       "      <td>2019-10-20</td>\n",
       "      <td>2019-10-30</td>\n",
       "      <td>PAID</td>\n",
       "      <td>2000</td>\n",
       "    </tr>\n",
       "    <tr>\n",
       "      <th>7</th>\n",
       "      <td>8</td>\n",
       "      <td>2000</td>\n",
       "      <td>2019-09-10</td>\n",
       "      <td>2019-11-10</td>\n",
       "      <td>2019-11-10</td>\n",
       "      <td>PAID</td>\n",
       "      <td>4000</td>\n",
       "    </tr>\n",
       "    <tr>\n",
       "      <th>8</th>\n",
       "      <td>9</td>\n",
       "      <td>2000</td>\n",
       "      <td>2019-09-10</td>\n",
       "      <td>2019-11-20</td>\n",
       "      <td>NaN</td>\n",
       "      <td>UNPAID</td>\n",
       "      <td>5000</td>\n",
       "    </tr>\n",
       "    <tr>\n",
       "      <th>9</th>\n",
       "      <td>10</td>\n",
       "      <td>2000</td>\n",
       "      <td>2019-09-10</td>\n",
       "      <td>2021-12-30</td>\n",
       "      <td>NaN</td>\n",
       "      <td>UNPAID</td>\n",
       "      <td>1000</td>\n",
       "    </tr>\n",
       "    <tr>\n",
       "      <th>10</th>\n",
       "      <td>11</td>\n",
       "      <td>2000</td>\n",
       "      <td>2019-09-10</td>\n",
       "      <td>2019-12-20</td>\n",
       "      <td>2019-09-20</td>\n",
       "      <td>PAID</td>\n",
       "      <td>2000</td>\n",
       "    </tr>\n",
       "  </tbody>\n",
       "</table>\n",
       "</div>"
      ],
      "text/plain": [
       "    id  organisation_id raised_date    due_date   paid_date  status  amount\n",
       "0    1             1000  2019-10-10  2019-10-20  2019-10-15    PAID    1000\n",
       "1    2             1000  2019-10-10  2019-10-20  2019-11-10    PAID    2000\n",
       "2    3             1000  2019-10-10  2019-10-30         NaN  UNPAID    1500\n",
       "3    4             1000  2019-10-10  2019-11-20         NaN  UNPAID    2000\n",
       "4    5             1000  2019-10-10  2019-11-01  2019-11-05    PAID    3000\n",
       "5    6             2000  2019-09-10  2019-10-10  2019-10-10    PAID    1000\n",
       "6    7             2000  2019-09-10  2019-10-20  2019-10-30    PAID    2000\n",
       "7    8             2000  2019-09-10  2019-11-10  2019-11-10    PAID    4000\n",
       "8    9             2000  2019-09-10  2019-11-20         NaN  UNPAID    5000\n",
       "9   10             2000  2019-09-10  2021-12-30         NaN  UNPAID    1000\n",
       "10  11             2000  2019-09-10  2019-12-20  2019-09-20    PAID    2000"
      ]
     },
     "execution_count": 39,
     "metadata": {},
     "output_type": "execute_result"
    }
   ],
   "source": [
    "# def count_unique_rows():\n",
    "#     # read invoices data\n",
    "#     df=read_invoices()\n",
    "\n",
    "#     # count number of unique rows\n",
    "#     print(df['id'])\n",
    "\n",
    "# count_unique_rows()\n",
    "\n",
    "# read invoices data\n",
    "df=read_invoices('../data/invoices.csv')\n",
    "\n",
    "df"
   ]
  },
  {
   "cell_type": "code",
   "execution_count": 53,
   "metadata": {},
   "outputs": [
    {
     "data": {
      "text/plain": [
       "11"
      ]
     },
     "execution_count": 53,
     "metadata": {},
     "output_type": "execute_result"
    }
   ],
   "source": [
    "# count number of unique rows\n",
    "df['id'].drop_duplicates().shape[0]"
   ]
  },
  {
   "cell_type": "code",
   "execution_count": 54,
   "metadata": {},
   "outputs": [
    {
     "data": {
      "text/plain": [
       "organisation_id\n",
       "1000    2\n",
       "2000    2\n",
       "dtype: int64"
      ]
     },
     "execution_count": 54,
     "metadata": {},
     "output_type": "execute_result"
    }
   ],
   "source": [
    "# number of unpaid invoices per organisation\n",
    "# df['id'].drop_duplicates()\n",
    "unpaid_invoices=df[df['status']==\"UNPAID\"]\n",
    "unpaid_invoices.groupby(\"organisation_id\").size()"
   ]
  },
  {
   "cell_type": "code",
   "execution_count": 69,
   "metadata": {},
   "outputs": [
    {
     "data": {
      "text/plain": [
       "organisation_id\n",
       "1000    2\n",
       "2000    1\n",
       "dtype: int64"
      ]
     },
     "execution_count": 69,
     "metadata": {},
     "output_type": "execute_result"
    }
   ],
   "source": [
    "# number of overdue invoices per organisation\n",
    "\n",
    "# convert to time series\n",
    "df[\"todays_date\"]=today\n",
    "df[\"raised_date\"]=pd.to_datetime(df[\"raised_date\"])\n",
    "df[\"due_date\"]=pd.to_datetime(df[\"due_date\"])\n",
    "df[\"paid_date\"]=pd.to_datetime(df[\"paid_date\"])\n",
    "df[\"todays_date\"]=pd.to_datetime(df[\"todays_date\"])\n",
    "df.dtypes\n",
    "\n",
    "# filter unpaid, due date less than todays date\n",
    "unpaid_invoices=df[df['status']==\"UNPAID\"]\n",
    "unpaid_invoices[unpaid_invoices['due_date']<unpaid_invoices[\"todays_date\"]].groupby(\"organisation_id\").size()"
   ]
  },
  {
   "cell_type": "code",
   "execution_count": 82,
   "metadata": {},
   "outputs": [
    {
     "name": "stderr",
     "output_type": "stream",
     "text": [
      "<ipython-input-82-3c9b64592c91>:13: SettingWithCopyWarning: \n",
      "A value is trying to be set on a copy of a slice from a DataFrame.\n",
      "Try using .loc[row_indexer,col_indexer] = value instead\n",
      "\n",
      "See the caveats in the documentation: https://pandas.pydata.org/pandas-docs/stable/user_guide/indexing.html#returning-a-view-versus-a-copy\n",
      "  paid_invoices['paid_month']=pd.DatetimeIndex(paid_invoices['paid_date']).month\n"
     ]
    },
    {
     "data": {
      "text/plain": [
       "organisation_id  paid_month\n",
       "1000             10            1\n",
       "                 11            2\n",
       "2000             9             1\n",
       "                 10            2\n",
       "                 11            1\n",
       "dtype: int64"
      ]
     },
     "execution_count": 82,
     "metadata": {},
     "output_type": "execute_result"
    }
   ],
   "source": [
    "# number of paid invoices per month per organisation\n",
    "\n",
    "# convert to time series\n",
    "df[\"todays_date\"]=today\n",
    "df[\"raised_date\"]=pd.to_datetime(df[\"raised_date\"])\n",
    "df[\"due_date\"]=pd.to_datetime(df[\"due_date\"])\n",
    "df[\"paid_date\"]=pd.to_datetime(df[\"paid_date\"])\n",
    "df[\"todays_date\"]=pd.to_datetime(df[\"todays_date\"])\n",
    "df.dtypes\n",
    "\n",
    "# filter paid, get b/down per month per organisation\n",
    "paid_invoices=df[df['status']==\"PAID\"]\n",
    "paid_invoices['paid_month']=pd.DatetimeIndex(paid_invoices['paid_date']).month\n",
    "paid_invoices.groupby([\"organisation_id\",\"paid_month\"]).size()"
   ]
  }
 ],
 "metadata": {
  "interpreter": {
   "hash": "4e4e738af8dad76e01222b7524d1cd6a637534d2d18f258a04f131b9dc2c767c"
  },
  "kernelspec": {
   "display_name": "Python 3.9.1 64-bit ('StTees-2mxw_81Q': pipenv)",
   "language": "python",
   "name": "python3"
  },
  "language_info": {
   "codemirror_mode": {
    "name": "ipython",
    "version": 3
   },
   "file_extension": ".py",
   "mimetype": "text/x-python",
   "name": "python",
   "nbconvert_exporter": "python",
   "pygments_lexer": "ipython3",
   "version": "3.9.1"
  },
  "orig_nbformat": 4
 },
 "nbformat": 4,
 "nbformat_minor": 2
}
